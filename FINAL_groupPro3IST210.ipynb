{
  "nbformat": 4,
  "nbformat_minor": 0,
  "metadata": {
    "colab": {
      "name": "FINAL groupPro3IST210",
      "provenance": [],
      "collapsed_sections": []
    },
    "kernelspec": {
      "name": "python3",
      "display_name": "Python 3"
    }
  },
  "cells": [
    {
      "cell_type": "markdown",
      "metadata": {
        "id": "x-i5C0kJaNkq"
      },
      "source": [
        "##Introduction to RJC Clothing"
      ]
    },
    {
      "cell_type": "markdown",
      "metadata": {
        "id": "rMK0aOS-aWxl"
      },
      "source": [
        "RCJ clothing is an online clothing market that assists those who want to buy close but do not want to go to the store or the mall due to the current pandemic. Our clothing store will have a main website where users can access all of the clothes that we are selling, purchase the clothes that they want, and have those clothes shipped to them.\r\n",
        "Our group members wanted to start this project because we recognized that people are not going to stores to buy clothes because they are in fear of getting infected. The solution of a fully online clothing store circumvents this problem. Our first ER diagram was barebones in the sense that although all of the tables were present, the relationships between the tables were not present. After figuring out how the data tables  are related with each other, we came to our final ER diagram with seven tables: personalized profiles, purchasing, advertisements, shipping, inventory, headquarters, and employee data.\r\n"
      ]
    },
    {
      "cell_type": "markdown",
      "metadata": {
        "id": "wzyzgpi6-fpW"
      },
      "source": [
        "![erDiagram](https://raw.githubusercontent.com/roygbivdilaz/Course-Materials/master/Images/GroupAssignment2.png)"
      ]
    },
    {
      "cell_type": "markdown",
      "metadata": {
        "id": "QOJEDG5vad5n"
      },
      "source": [
        "##Specifics in Regards to ER Diagram"
      ]
    },
    {
      "cell_type": "markdown",
      "metadata": {
        "id": "JI-gnR93amQ9"
      },
      "source": [
        "One specific to our ER diagram that we found hard to implement effectively was the cardinality of our advertisements entity and the type of data that our attributes would be labeled as. We had to determine the range of employees that could work on one advertisement and what kind of information would be held in the fields adData and adType. We determined adData to be unnecessary and adType to be a text attribute that displays what medium our ad was displayed on such as instagram compared to physical advertisements such as fliers.\r\n"
      ]
    },
    {
      "cell_type": "markdown",
      "metadata": {
        "id": "ds0-U4cAat0S"
      },
      "source": [
        "##Valid in 2nd Normal Form?"
      ]
    },
    {
      "cell_type": "markdown",
      "metadata": {
        "id": "bg4eS2OOa1Vy"
      },
      "source": [
        "Our ER Diagram would not be valid to work in the 2nd Normal Form. Our ER Diagram does not meet the first condition of being in 1st Normal form as well as meeting the main condition of having all of our non-key attributes dependent on all of our  primary key attributes. In earlier stages of the project we worked to make sure that our ER Diagram would work in 1st normal form. We did this by splitting up our diagram into multiple tables to be sure that the data in each table relates to the primary key in the table. However, a few of our foreign keys rely on other tables like quantity in Purchase, employeeID in Advertisement, and employee in Headquarters are all repeating groups as they are in multiple tables. \r\n"
      ]
    },
    {
      "cell_type": "markdown",
      "metadata": {
        "id": "i0U_GfS5a3k0"
      },
      "source": [
        "##Valid in 3rd Normal Form?"
      ]
    },
    {
      "cell_type": "markdown",
      "metadata": {
        "id": "oiQrJR2ha9jd"
      },
      "source": [
        "Our ER Diagram would not be able to be converted into 3rd Normal Form. The main reason being that it is not in 2nd normal form along with some of our columns depending on other columns within the table. One example of this in our diagram would be in our Shipping table. In this table we have a street address, zip code, and state. All of these attributes are dependent on each other. Street addresses would need to rely on the zip code and state to allow for an exact delivery location. So because of this dependency we would not be able to put our diagram into the 3rd normal form.\r\n"
      ]
    },
    {
      "cell_type": "markdown",
      "metadata": {
        "id": "56mjfqc1bAnh"
      },
      "source": [
        "##Valid in Boyce-Codd?"
      ]
    },
    {
      "cell_type": "markdown",
      "metadata": {
        "id": "mr0QsXf5bTI7"
      },
      "source": [
        "Given that our diagram is not valid in 3rd normal form, Boyce-Codd by extension would also not work with our ER Diagram. Boyce-Codd removes dependencies based on functional dependencies. As stated in the previous section of our report, some of our tables depend upon other attributes. This means that we still have functional dependencies in our ER Diagram.\r\n"
      ]
    },
    {
      "cell_type": "markdown",
      "metadata": {
        "id": "mWecb1RibWrd"
      },
      "source": [
        "##How we created our database, tables, and inserted data."
      ]
    },
    {
      "cell_type": "markdown",
      "metadata": {
        "id": "cWPBcjJ7betm"
      },
      "source": [
        "We created our database with the intent of making a clothing market that focuses specifically on social media as a form of advertisement and selling. We wanted to create a service that allows users to create personalized profiles for ease of use. We used this as the starting point for our diagram that contains primary keys to other essential entities like purchasing and shipping. We inserted data into each of our tables with the majority of our data types being text. Using sql we were able to insert our data with minimal problems."
      ]
    },
    {
      "cell_type": "markdown",
      "metadata": {
        "id": "9oVwixPycsw6"
      },
      "source": [
        "##Creating and populating our data tables:"
      ]
    },
    {
      "cell_type": "code",
      "metadata": {
        "id": "KitSwQoi_Gaf",
        "colab": {
          "base_uri": "https://localhost:8080/",
          "height": 69
        },
        "outputId": "f73a0423-06d3-450c-a532-20f6467be3e0"
      },
      "source": [
        "%load_ext sql\n",
        "%sql sqlite:///RJCdatabase.db"
      ],
      "execution_count": null,
      "outputs": [
        {
          "output_type": "stream",
          "text": [
            "The sql extension is already loaded. To reload it, use:\n",
            "  %reload_ext sql\n"
          ],
          "name": "stdout"
        },
        {
          "output_type": "execute_result",
          "data": {
            "application/vnd.google.colaboratory.intrinsic+json": {
              "type": "string"
            },
            "text/plain": [
              "'Connected: @RJCdatabase.db'"
            ]
          },
          "metadata": {
            "tags": []
          },
          "execution_count": 86
        }
      ]
    },
    {
      "cell_type": "code",
      "metadata": {
        "id": "ySk4XZ0j9arm",
        "colab": {
          "base_uri": "https://localhost:8080/"
        },
        "outputId": "e6e529a9-5fe2-4196-e49b-6525a8adbf75"
      },
      "source": [
        "%%sql\n",
        "DROP TABLE IF EXISTS PersonalizedProfiles;\n",
        "create table PersonalizedProfiles (profileID text primary key, firstName text, lastName text, locationData text, shippingID text, transactions int);\n",
        "\n",
        "DROP TABLE IF EXISTS Shipping;\n",
        "create table Shipping (shippingID text primary key, profile text, streetAddress text, zipCode text, state text);\n",
        "\n",
        "DROP TABLE IF EXISTS Purchasing;\n",
        "create table Purchasing(transactionID text primary key, paymentMethod text, shippindID text, price real, quantityBought int);\n",
        "\n",
        "DROP TABLE IF EXISTS Advertisements;\n",
        "create table Advertisements(advertisementID text primaryKey, adType text, adDecription text, profileID text, employeeID text);\n",
        "\n",
        "DROP TABLE IF EXISTS Inventory;\n",
        "create table Inventory(inventoryID text primary key, size text, quantityStock int, typeOfClothing text);\n",
        "\n",
        "DROP TABLE IF EXISTS Employee;\n",
        "create table Employee(employeeID text primary key, firstName text, lastName text, jobtitle text);\n",
        "\n",
        "DROP TABLE IF EXISTS Headquarters;\n",
        "create table Headquarters(headquartersID text primary key, location text, employee text);\n",
        "\n"
      ],
      "execution_count": null,
      "outputs": [
        {
          "output_type": "stream",
          "text": [
            " * sqlite:///RJCdatabase.db\n",
            "Done.\n",
            "Done.\n",
            "Done.\n",
            "Done.\n",
            "Done.\n",
            "Done.\n",
            "Done.\n",
            "Done.\n",
            "Done.\n",
            "Done.\n",
            "Done.\n",
            "Done.\n",
            "Done.\n",
            "Done.\n"
          ],
          "name": "stdout"
        },
        {
          "output_type": "execute_result",
          "data": {
            "text/plain": [
              "[]"
            ]
          },
          "metadata": {
            "tags": []
          },
          "execution_count": 87
        }
      ]
    },
    {
      "cell_type": "code",
      "metadata": {
        "colab": {
          "base_uri": "https://localhost:8080/"
        },
        "id": "gagT94UmEXSO",
        "outputId": "8da43846-a6f2-4205-ab45-9c4cf7eac954"
      },
      "source": [
        "%%sql\n",
        "\n",
        "insert into PersonalizedProfiles values ('001', 'John', 'Brown', '04321', 'JB001', '3');\n",
        "insert into PersonalizedProfiles values ('002', 'Alex', 'Johnson', '02348', 'AJ001', '2');\n",
        "insert into PersonalizedProfiles values ('003', 'Joe', 'Swanson', '04582', 'JS001', '5');\n",
        "insert into PersonalizedProfiles values ('004', 'Tiffany', 'Gale', '04583', 'TG001', '7');\n",
        "insert into PersonalizedProfiles values ('005', 'Emily', 'Kelly', '02748', 'EK001', '4');\n",
        "\n",
        "insert into Shipping values('0001', '354', 'Apple Street', '47893', 'PA' );\n",
        "insert into Shipping values('0002', '594', 'Highland Ave', '42193', 'PA' );\n",
        "insert into Shipping values('0003', '854', 'High Street', '42353', 'VA' );\n",
        "insert into Shipping values('0004', '148', 'Mountain Street', '44563', 'VA' );\n",
        "insert into Shipping values('0005', '234', 'Oakland Ave', '14354', 'MA' );\n",
        "\n",
        "insert into Advertisements values ('001A', 'Social Media', 'Instagram', '10121', 'EP01');\n",
        "insert into Advertisements values ('002A', 'Physical', 'Fliers', '10035', 'EP02');\n",
        "insert into Advertisements values ('003A', 'Social Media', 'Twitter', '10067', 'EP03');\n",
        "insert into Advertisements values ('004A', 'Physical', 'Posters', '10032', 'EP04');\n",
        "insert into Advertisements values ('005A', 'Social Media', 'Instagram', '10063', 'EP05');\n",
        "\n",
        "Insert into Inventory values('0001','Medium', 55, 'Long sleeve');\n",
        "Insert into Inventory values('0002','Small', 43, 'Short sleeve');\n",
        "Insert into Inventory values('0003','Large', 71, 'Jackets');\n",
        "Insert into Inventory values('0004','Large', 77, 'Shorts');\n",
        "Insert into Inventory values('0005','Medium', 62, 'Hoodies');\n",
        "\n",
        "insert into Employee values('00001', 'Abigail', 'Pierce', 'Sales');\n",
        "insert into Employee values('00002', 'Thomas', 'Lawrence', 'Marketing');\n",
        "insert into Employee values('00003', 'Richard', 'Price', 'Sales');\n",
        "insert into Employee values('00004', 'John', 'Goldstein', 'Sales');\n",
        "insert into Employee values('00005', 'Timothy', 'Heeran', 'Marketing');\n",
        "\n",
        "\n",
        "insert into Headquarters values ('EC01', 'East Coast',  'Ron Kalisnky');\n",
        "insert into Headquarters values ('WC01', 'West Coast', 'Eliot Gunderson');\n",
        "insert into Headquarters values ('WC02', 'West Coast', 'Matteas Mitchell');\n",
        "insert into Headquarters values ('EC02', 'East Coast', 'Louis Osadchey');\n",
        "insert into Headquarters values ('EC03', 'East Coast', 'Paul Jordan');\n",
        "\n"
      ],
      "execution_count": null,
      "outputs": [
        {
          "output_type": "stream",
          "text": [
            " * sqlite:///RJCdatabase.db\n",
            "1 rows affected.\n",
            "1 rows affected.\n",
            "1 rows affected.\n",
            "1 rows affected.\n",
            "1 rows affected.\n",
            "1 rows affected.\n",
            "1 rows affected.\n",
            "1 rows affected.\n",
            "1 rows affected.\n",
            "1 rows affected.\n",
            "1 rows affected.\n",
            "1 rows affected.\n",
            "1 rows affected.\n",
            "1 rows affected.\n",
            "1 rows affected.\n",
            "1 rows affected.\n",
            "1 rows affected.\n",
            "1 rows affected.\n",
            "1 rows affected.\n",
            "1 rows affected.\n",
            "1 rows affected.\n",
            "1 rows affected.\n",
            "1 rows affected.\n",
            "1 rows affected.\n",
            "1 rows affected.\n",
            "1 rows affected.\n",
            "1 rows affected.\n",
            "1 rows affected.\n",
            "1 rows affected.\n",
            "1 rows affected.\n"
          ],
          "name": "stdout"
        },
        {
          "output_type": "execute_result",
          "data": {
            "text/plain": [
              "[]"
            ]
          },
          "metadata": {
            "tags": []
          },
          "execution_count": 88
        }
      ]
    },
    {
      "cell_type": "code",
      "metadata": {
        "colab": {
          "base_uri": "https://localhost:8080/",
          "height": 95
        },
        "id": "Yv999f66ODj_",
        "outputId": "f21b6348-dcda-46ea-a5f6-8152d53d171c"
      },
      "source": [
        "%%sql\n",
        "select count(location) from Headquarters where location = 'East Coast' limit 5"
      ],
      "execution_count": null,
      "outputs": [
        {
          "output_type": "stream",
          "text": [
            " * sqlite:///RJCdatabase.db\n",
            "Done.\n"
          ],
          "name": "stdout"
        },
        {
          "output_type": "execute_result",
          "data": {
            "text/html": [
              "<table>\n",
              "    <tr>\n",
              "        <th>count(location)</th>\n",
              "    </tr>\n",
              "    <tr>\n",
              "        <td>3</td>\n",
              "    </tr>\n",
              "</table>"
            ],
            "text/plain": [
              "[(3,)]"
            ]
          },
          "metadata": {
            "tags": []
          },
          "execution_count": 100
        }
      ]
    },
    {
      "cell_type": "markdown",
      "metadata": {
        "id": "deqAxUUtShiN"
      },
      "source": [
        "##Scenario for average user"
      ]
    },
    {
      "cell_type": "markdown",
      "metadata": {
        "id": "e1cvjtDqcDr2"
      },
      "source": [
        "If a user is using a social media platform such as instagram and is scrolling through their homepage they may see an ad for an article of clothing that we are selling. The user can click on the advertisement and taken to a window in which they will be given the option to choose the quantity of the item they wish to purchase or to explore other items. Upon buying the item, the user will be asked to create a personalized profile. This allows the user to enter important data that is relevant to their shopping such as their name, payment information and shipping address. This will make the process much easier next time they shop with us. Upon purchasing the item, our inventory will check the quantity of the item remaining and it will be shipped to the user if there is enough in stock."
      ]
    },
    {
      "cell_type": "markdown",
      "metadata": {
        "id": "kiIBdM5XcVCK"
      },
      "source": [
        "##Queries:"
      ]
    },
    {
      "cell_type": "markdown",
      "metadata": {
        "id": "kB6ZG1fESenY"
      },
      "source": [
        " One question that companies may need to keep track of as they grow is where their employees are distributed. Our theoretical company has two Headquarters, one on the East and West Coast. If an employee wanted to look and compare which headquarters has more employees, this is how it would be done."
      ]
    },
    {
      "cell_type": "code",
      "metadata": {
        "colab": {
          "base_uri": "https://localhost:8080/",
          "height": 179
        },
        "id": "gJXrohRHQC9f",
        "outputId": "ed46bf65-2380-483d-baa6-c8138898a7ea"
      },
      "source": [
        "%%sql\n",
        "select * from Inventory Order by quantityStock DESC"
      ],
      "execution_count": null,
      "outputs": [
        {
          "output_type": "stream",
          "text": [
            " * sqlite:///RJCdatabase.db\n",
            "Done.\n"
          ],
          "name": "stdout"
        },
        {
          "output_type": "execute_result",
          "data": {
            "text/html": [
              "<table>\n",
              "    <tr>\n",
              "        <th>inventoryID</th>\n",
              "        <th>size</th>\n",
              "        <th>quantityStock</th>\n",
              "        <th>typeOfClothing</th>\n",
              "    </tr>\n",
              "    <tr>\n",
              "        <td>0004</td>\n",
              "        <td>Large</td>\n",
              "        <td>77</td>\n",
              "        <td>Shorts</td>\n",
              "    </tr>\n",
              "    <tr>\n",
              "        <td>0003</td>\n",
              "        <td>Large</td>\n",
              "        <td>71</td>\n",
              "        <td>Jackets</td>\n",
              "    </tr>\n",
              "    <tr>\n",
              "        <td>0005</td>\n",
              "        <td>Medium</td>\n",
              "        <td>62</td>\n",
              "        <td>Hoodies</td>\n",
              "    </tr>\n",
              "    <tr>\n",
              "        <td>0001</td>\n",
              "        <td>Medium</td>\n",
              "        <td>55</td>\n",
              "        <td>Longsleeve</td>\n",
              "    </tr>\n",
              "    <tr>\n",
              "        <td>0002</td>\n",
              "        <td>Small</td>\n",
              "        <td>43</td>\n",
              "        <td>Short sleeve</td>\n",
              "    </tr>\n",
              "</table>"
            ],
            "text/plain": [
              "[('0004', 'Large', 77, 'Shorts'),\n",
              " ('0003', 'Large', 71, 'Jackets'),\n",
              " ('0005', 'Medium', 62, 'Hoodies'),\n",
              " ('0001', 'Medium', 55, 'Longsleeve'),\n",
              " ('0002', 'Small', 43, 'Short sleeve')]"
            ]
          },
          "metadata": {
            "tags": []
          },
          "execution_count": 103
        }
      ]
    },
    {
      "cell_type": "markdown",
      "metadata": {
        "id": "-LxmM001Sipy"
      },
      "source": [
        "This query helps to return our inventory from most in stock to the least amount in stock. This can be helpful for our employees in regards to product ordering. Our employees can see the inventory and order more or less of a product depending on how many we have in stock. So in this example we will order less shorts and more short sleeve shirts."
      ]
    },
    {
      "cell_type": "code",
      "metadata": {
        "colab": {
          "base_uri": "https://localhost:8080/",
          "height": 116
        },
        "id": "_Z7nT9ktQoht",
        "outputId": "40594674-8194-449d-8269-cd9e18c98792"
      },
      "source": [
        "%%sql\n",
        "select adtype,count(adType) from Advertisements group by adtype"
      ],
      "execution_count": null,
      "outputs": [
        {
          "output_type": "stream",
          "text": [
            " * sqlite:///RJCdatabase.db\n",
            "Done.\n"
          ],
          "name": "stdout"
        },
        {
          "output_type": "execute_result",
          "data": {
            "text/html": [
              "<table>\n",
              "    <tr>\n",
              "        <th>adType</th>\n",
              "        <th>count(adType)</th>\n",
              "    </tr>\n",
              "    <tr>\n",
              "        <td>Physical</td>\n",
              "        <td>2</td>\n",
              "    </tr>\n",
              "    <tr>\n",
              "        <td>Social Media</td>\n",
              "        <td>3</td>\n",
              "    </tr>\n",
              "</table>"
            ],
            "text/plain": [
              "[('Physical', 2), ('Social Media', 3)]"
            ]
          },
          "metadata": {
            "tags": []
          },
          "execution_count": 109
        }
      ]
    },
    {
      "cell_type": "markdown",
      "metadata": {
        "id": "PFH1GVcyR75L"
      },
      "source": [
        "When keeping track of the advertisements created by RJC, knowing how many physical advertisements (billboards, fliers, etc) and social media advertisements would be good information to have. This information would allow us to know what adtype we should create next so that we can maintain an equal amount of physical and social media advertisements."
      ]
    }
  ]
}
{
  "nbformat": 4,
  "nbformat_minor": 0,
  "metadata": {
    "colab": {
      "name": "FirstGoogleNotebook.ipynb",
      "provenance": []
    },
    "kernelspec": {
      "name": "python3",
      "display_name": "Python 3"
    }
  },
  "cells": [
    {
      "cell_type": "markdown",
      "metadata": {
        "id": "f28AXhLRAPa3",
        "colab_type": "text"
      },
      "source": [
        "# Do you like using Jupyter Notebooks?"
      ]
    },
    {
      "cell_type": "markdown",
      "metadata": {
        "id": "ww_zj6YNAXZp",
        "colab_type": "text"
      },
      "source": [
        "I do like using Jupyter Notebooks! The fact that it is capable of running multiple programming languages alows me to learn each of them and that gives me happiness. "
      ]
    },
    {
      "cell_type": "markdown",
      "metadata": {
        "id": "fXHtsE40AzD7",
        "colab_type": "text"
      },
      "source": [
        "# What do you want to learn more about in Jupyter Notebooks?"
      ]
    },
    {
      "cell_type": "markdown",
      "metadata": {
        "id": "Gi2o0nBUA5mW",
        "colab_type": "text"
      },
      "source": [
        "I want to learn what Jupyter is capable of and how it is used in comparison to other programs. What are its advantages? Are there any disadvantages where I might want to use a different program instead?"
      ]
    },
    {
      "cell_type": "markdown",
      "metadata": {
        "id": "lMDZemRQGn-9",
        "colab_type": "text"
      },
      "source": [
        "![lonely album cover](https://raw.githubusercontent.com/roygbivdilaz/Course-Materials/master/Images/Lonely.JPG)"
      ]
    }
  ]
}
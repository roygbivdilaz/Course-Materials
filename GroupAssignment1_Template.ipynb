{
  "nbformat": 4,
  "nbformat_minor": 0,
  "metadata": {
    "colab": {
      "name": "GroupAssignment1-Template.ipynb",
      "provenance": []
    },
    "kernelspec": {
      "name": "python3",
      "display_name": "Python 3"
    }
  },
  "cells": [
    {
      "cell_type": "markdown",
      "metadata": {
        "id": "UblhAIGuGF27",
        "colab_type": "text"
      },
      "source": [
        "RJC Clothing"
      ]
    },
    {
      "cell_type": "markdown",
      "metadata": {
        "id": "RlR0_Ol4GW3b",
        "colab_type": "text"
      },
      "source": [
        "### what is your idea?"
      ]
    },
    {
      "cell_type": "markdown",
      "metadata": {
        "id": "HU68Zv5MGY97",
        "colab_type": "text"
      },
      "source": [
        "RJC Clothing is an original clothesline developed by us. It uses a networking based marketing approach to appeal to end users."
      ]
    },
    {
      "cell_type": "markdown",
      "metadata": {
        "id": "45Q0PBrIGiIg",
        "colab_type": "text"
      },
      "source": [
        "### what makes it unique?"
      ]
    },
    {
      "cell_type": "markdown",
      "metadata": {
        "id": "8WOfTAuqGjoc",
        "colab_type": "text"
      },
      "source": [
        "One unique aspect of our business is a one to many connection. Where you can purchase products straight from social media sites which we advertise on.\n"
      ]
    },
    {
      "cell_type": "markdown",
      "metadata": {
        "id": "dVrktWdXGl19",
        "colab_type": "text"
      },
      "source": [
        "### is this a brand-new product or business, or are you borrowing from another business?"
      ]
    },
    {
      "cell_type": "markdown",
      "metadata": {
        "id": "MmGY0leUGnaN",
        "colab_type": "text"
      },
      "source": [
        "This is a brand-new business. It is unique in the fact that it is strictly online, meaning that there is not official store that you can go to."
      ]
    },
    {
      "cell_type": "markdown",
      "metadata": {
        "id": "k3oJzVDPGnws",
        "colab_type": "text"
      },
      "source": [
        "### describe a typical business interaction or a day at your business."
      ]
    },
    {
      "cell_type": "markdown",
      "metadata": {
        "id": "GeEKl-lUG1x5",
        "colab_type": "text"
      },
      "source": [
        "The online profile will create posts that reach an audience through social media. These posts will include links and payment methods for people to buy our clothing instantly. We will then ship the clothes to the person with the information given."
      ]
    },
    {
      "cell_type": "markdown",
      "metadata": {
        "id": "iUFoC5BuGpID",
        "colab_type": "text"
      },
      "source": [
        "### list your 5 entities/tables and for each, provide details about what data will be stored in the entities/tables."
      ]
    },
    {
      "cell_type": "markdown",
      "metadata": {
        "id": "AiZXrfSMGqZm",
        "colab_type": "text"
      },
      "source": [
        "1. Advertisements\n",
        "\n",
        "We will store data from our advertisements on how many users interact with each of our clothing products to collect data on what customers want/dislike. Future products can be designed and developed based on this data.\n",
        "\n",
        "2. Personalized profiles\n",
        "\n",
        "With users agreement, we can use their information from previous purchases to tailor clothing suggestions that best fit the customer. Information on purchasing and shipping can be stores to expedite the purchasing process.\n",
        "\n",
        "3. Inventory\n",
        "\n",
        "Will contain a record of all clothing that is packed and ready to be shipped to end users. Will be able to identify type of clothing such as sizes and quantities.\n",
        "\n",
        "4. Purchasing\n",
        "\n",
        "End user or real time customer data. Store and collect customers purchases from their credit card. Store information for future purposes. \n",
        "\n",
        "5. Shipping and delivery\n",
        "\n",
        "Store users location data. This will make processing time on future purchases smaller. We can also use this data to suggest what other customers are purchasing in their area. Based on location we can also recommend clothing that is more suitable for their weather (Summer clothes for users in warm climates and winter clothes for users in colder areas)."
      ]
    },
    {
      "cell_type": "code",
      "metadata": {
        "id": "ENd1pBkixDNr",
        "colab_type": "code",
        "colab": {}
      },
      "source": [
        ""
      ],
      "execution_count": null,
      "outputs": []
    },
    {
      "cell_type": "markdown",
      "metadata": {
        "id": "h2mJWTewHLSn",
        "colab_type": "text"
      },
      "source": [
        "Draw IO Entity Relationship Diagram \n",
        "\n",
        "![ Entity Relationship Diagram ](https://raw.githubusercontent.com/roygbivdilaz/Course-Materials/master/Images/GroupAssignment1.png)\n",
        "\n"
      ]
    },
    {
      "cell_type": "markdown",
      "metadata": {
        "id": "WFQXwieoHiCe",
        "colab_type": "text"
      },
      "source": [
        "### provide a goal for your project "
      ]
    },
    {
      "cell_type": "markdown",
      "metadata": {
        "id": "cKmoiVHrHnHF",
        "colab_type": "text"
      },
      "source": [
        "Use data obtained from users to structure our business model to minimize the amount of spending by business. For example if one color shirt sells more frequently we can purchase and produce more of that specific color than a less purchased one. This will lower our amount of lost inventory. \n"
      ]
    }
  ]
}
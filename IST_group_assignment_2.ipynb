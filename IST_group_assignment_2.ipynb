{
  "nbformat": 4,
  "nbformat_minor": 0,
  "metadata": {
    "colab": {
      "name": "IST group assignment 2",
      "provenance": [],
      "collapsed_sections": [],
      "include_colab_link": true
    },
    "kernelspec": {
      "name": "python3",
      "display_name": "Python 3"
    }
  },
  "cells": [
    {
      "cell_type": "markdown",
      "metadata": {
        "id": "view-in-github",
        "colab_type": "text"
      },
      "source": [
        "<a href=\"https://colab.research.google.com/github/roygbivdilaz/Course-Materials/blob/master/IST_group_assignment_2.ipynb\" target=\"_parent\"><img src=\"https://colab.research.google.com/assets/colab-badge.svg\" alt=\"Open In Colab\"/></a>"
      ]
    },
    {
      "cell_type": "code",
      "metadata": {
        "id": "uTI413_2BV53"
      },
      "source": [
        ""
      ],
      "execution_count": null,
      "outputs": []
    },
    {
      "cell_type": "markdown",
      "metadata": {
        "id": "txLQUHqb6yGm"
      },
      "source": [
        "For this assignment we expanded on our first version by conforming our ER diagram to first normal form. We updated our entities to all include primary keys that are unique to that entity such as ProfileID and ShippingID. We also added foreign keys to our entities where it was appropriate. Under headquarters, we created a foreign key of employee that connects the headquarters table to employee. Employee is also related to advertisements, in that they create advertisements so we added a foreign key in advertisements to account for that. Under the table of puchaseing, there is a foreign key for quantity bought. This foreign key connects the purchasing table to inventory. Under personalized profiles, we created a foreign key connecting the customers to purchasing.  For ProfileID we made both TransactionID and ShippingID the foreign keys as having a profile is dependant on having a unique shipping ID. For cardinality between employees and advertisements we made employee 1,10 because we would have atleast 1 employee working to create ads and a maximum of 10 working to create ads together. on the opposite end of this relationship we made advertisements 1,8. The reasoning was that we would have a minimum of one type of ad and up to 8 different kinds of ads for different platforms. For the cardinality between purchasing and inventory, we made purchasing 1,50 and inventory 1,1500. The reasoning behind this was that a purchase would have to be a minimum of one item and would be capped at 50.  For the cardinality between headquarters and employee, headquarters is 1,50 because we need a minimum of 1 employee and can have up to 50 at a time. Employee is 1,1 because each an employee is a single entity."
      ]
    },
    {
      "cell_type": "markdown",
      "metadata": {
        "id": "KdwAi8iW8npP"
      },
      "source": [
        "![ER Diagram](https://raw.githubusercontent.com/roygbivdilaz/Course-Materials/master/Images/GroupAssignment2.png)"
      ]
    }
  ]
}
{
  "nbformat": 4,
  "nbformat_minor": 0,
  "metadata": {
    "colab": {
      "name": "Pet Shop.ipynb",
      "provenance": [],
      "authorship_tag": "ABX9TyNmPHnhdz8lYkK8/eCb12p+",
      "include_colab_link": true
    },
    "kernelspec": {
      "name": "python3",
      "display_name": "Python 3"
    }
  },
  "cells": [
    {
      "cell_type": "markdown",
      "metadata": {
        "id": "view-in-github",
        "colab_type": "text"
      },
      "source": [
        "<a href=\"https://colab.research.google.com/github/roygbivdilaz/Course-Materials/blob/master/Pet_Shop.ipynb\" target=\"_parent\"><img src=\"https://colab.research.google.com/assets/colab-badge.svg\" alt=\"Open In Colab\"/></a>"
      ]
    },
    {
      "cell_type": "markdown",
      "metadata": {
        "id": "Ioh0C27tUuPF"
      },
      "source": [
        "![Entity Relationship Diagram](https://raw.githubusercontent.com/roygbivdilaz/Course-Materials/master/Images/Pet%20Shop.png)"
      ]
    },
    {
      "cell_type": "markdown",
      "metadata": {
        "id": "U2MxQtKWU5bI"
      },
      "source": [
        "  Starting with customer, a customer enters the shop and could purchase a pet. There is usually only one customer involved in the process of buying a pet, and that customer can buy many pets, or none at all. The customer could also purchase food. There is only one customer involved in this process, and the customer could buy many packages of food, or none. Lastly the customer could also be involved in a loyalty program. There is only one customer involved in this process and for one customer there can be only one loyalty program.\n",
        "  \n",
        "  As for the pets, the pets are fed food. There can be many pets involved in this process, and each pet may get 1 - 2 packages of food. Pets are also kept in enclosures. Many pets can be kept in one enclosure, but one pet cannot be kept in many enclosures. Food is also placed into the enclosures to feed the pets. Many packages of food is placed in many enclosures. \n",
        "\n",
        "Lastly, the employees sell food and pets. One employee is involved in the process of selling a pet, and they may sell many pets by the end of the year. One employee is also involved in the process of selling food, and may sell many packages of food by the end of the year."
      ]
    }
  ]
}
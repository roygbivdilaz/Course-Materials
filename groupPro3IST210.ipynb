{
  "nbformat": 4,
  "nbformat_minor": 0,
  "metadata": {
    "colab": {
      "name": "groupPro3IST210",
      "provenance": [],
      "collapsed_sections": [],
      "include_colab_link": true
    },
    "kernelspec": {
      "name": "python3",
      "display_name": "Python 3"
    }
  },
  "cells": [
    {
      "cell_type": "markdown",
      "metadata": {
        "id": "view-in-github",
        "colab_type": "text"
      },
      "source": [
        "<a href=\"https://colab.research.google.com/github/roygbivdilaz/Course-Materials/blob/master/groupPro3IST210.ipynb\" target=\"_parent\"><img src=\"https://colab.research.google.com/assets/colab-badge.svg\" alt=\"Open In Colab\"/></a>"
      ]
    },
    {
      "cell_type": "code",
      "metadata": {
        "id": "KitSwQoi_Gaf",
        "colab": {
          "base_uri": "https://localhost:8080/",
          "height": 69
        },
        "outputId": "f73a0423-06d3-450c-a532-20f6467be3e0"
      },
      "source": [
        "%load_ext sql\n",
        "%sql sqlite:///RJCdatabase.db"
      ],
      "execution_count": 86,
      "outputs": [
        {
          "output_type": "stream",
          "text": [
            "The sql extension is already loaded. To reload it, use:\n",
            "  %reload_ext sql\n"
          ],
          "name": "stdout"
        },
        {
          "output_type": "execute_result",
          "data": {
            "application/vnd.google.colaboratory.intrinsic+json": {
              "type": "string"
            },
            "text/plain": [
              "'Connected: @RJCdatabase.db'"
            ]
          },
          "metadata": {
            "tags": []
          },
          "execution_count": 86
        }
      ]
    },
    {
      "cell_type": "code",
      "metadata": {
        "id": "ySk4XZ0j9arm",
        "colab": {
          "base_uri": "https://localhost:8080/"
        },
        "outputId": "e6e529a9-5fe2-4196-e49b-6525a8adbf75"
      },
      "source": [
        "%%sql\n",
        "DROP TABLE IF EXISTS PersonalizedProfiles;\n",
        "create table PersonalizedProfiles (profileID text primary key, firstName text, lastName text, locationData text, shippingID text, transactions int);\n",
        "\n",
        "DROP TABLE IF EXISTS Shipping;\n",
        "create table Shipping (shippingID text primary key, profile text, streetAddress text, zipCode text, state text);\n",
        "\n",
        "DROP TABLE IF EXISTS Purchasing;\n",
        "create table Purchasing(transactionID text primary key, paymentMethod text, shippindID text, price real, quantityBought int);\n",
        "\n",
        "DROP TABLE IF EXISTS Advertisements;\n",
        "create table Advertisements(advertisementID text primaryKey, adType text, adDecription text, profileID text, employeeID text);\n",
        "\n",
        "DROP TABLE IF EXISTS Inventory;\n",
        "create table Inventory(inventoryID text primary key, size text, quantityStock int, typeOfClothing text);\n",
        "\n",
        "DROP TABLE IF EXISTS Employee;\n",
        "create table Employee(employeeID text primary key, firstName text, lastName text, jobtitle text);\n",
        "\n",
        "DROP TABLE IF EXISTS Headquarters;\n",
        "create table Headquarters(headquartersID text primary key, location text, employee text);\n",
        "\n"
      ],
      "execution_count": 87,
      "outputs": [
        {
          "output_type": "stream",
          "text": [
            " * sqlite:///RJCdatabase.db\n",
            "Done.\n",
            "Done.\n",
            "Done.\n",
            "Done.\n",
            "Done.\n",
            "Done.\n",
            "Done.\n",
            "Done.\n",
            "Done.\n",
            "Done.\n",
            "Done.\n",
            "Done.\n",
            "Done.\n",
            "Done.\n"
          ],
          "name": "stdout"
        },
        {
          "output_type": "execute_result",
          "data": {
            "text/plain": [
              "[]"
            ]
          },
          "metadata": {
            "tags": []
          },
          "execution_count": 87
        }
      ]
    },
    {
      "cell_type": "code",
      "metadata": {
        "colab": {
          "base_uri": "https://localhost:8080/"
        },
        "id": "gagT94UmEXSO",
        "outputId": "8da43846-a6f2-4205-ab45-9c4cf7eac954"
      },
      "source": [
        "%%sql\n",
        "\n",
        "insert into PersonalizedProfiles values ('001', 'John', 'Brown', '04321', 'JB001', '3');\n",
        "insert into PersonalizedProfiles values ('002', 'Alex', 'Johnson', '02348', 'AJ001', '2');\n",
        "insert into PersonalizedProfiles values ('003', 'Joe', 'Swanson', '04582', 'JS001', '5');\n",
        "insert into PersonalizedProfiles values ('004', 'Tiffany', 'Gale', '04583', 'TG001', '7');\n",
        "insert into PersonalizedProfiles values ('005', 'Emily', 'Kelly', '02748', 'EK001', '4');\n",
        "\n",
        "insert into Shipping values('0001', '354', 'Apple Street', '47893', 'PA' );\n",
        "insert into Shipping values('0002', '594', 'Highland Ave', '42193', 'PA' );\n",
        "insert into Shipping values('0003', '854', 'High Street', '42353', 'VA' );\n",
        "insert into Shipping values('0004', '148', 'Mountain Street', '44563', 'VA' );\n",
        "insert into Shipping values('0005', '234', 'Oakland Ave', '14354', 'MA' );\n",
        "\n",
        "insert into Advertisements values ('001A', 'Social Media', 'Instagram', '10121', 'EP01');\n",
        "insert into Advertisements values ('002A', 'Physical', 'Fliers', '10035', 'EP02');\n",
        "insert into Advertisements values ('003A', 'Social Media', 'Twitter', '10067', 'EP03');\n",
        "insert into Advertisements values ('004A', 'Physical', 'Posters', '10032', 'EP04');\n",
        "insert into Advertisements values ('005A', 'Social Media', 'Instagram', '10063', 'EP05');\n",
        "\n",
        "Insert into Inventory values('0001','Medium', 55, 'Long sleeve');\n",
        "Insert into Inventory values('0002','Small', 43, 'Short sleeve');\n",
        "Insert into Inventory values('0003','Large', 71, 'Jackets');\n",
        "Insert into Inventory values('0004','Large', 77, 'Shorts');\n",
        "Insert into Inventory values('0005','Medium', 62, 'Hoodies');\n",
        "\n",
        "insert into Employee values('00001', 'Abigail', 'Pierce', 'Sales');\n",
        "insert into Employee values('00002', 'Thomas', 'Lawrence', 'Marketing');\n",
        "insert into Employee values('00003', 'Richard', 'Price', 'Sales');\n",
        "insert into Employee values('00004', 'John', 'Goldstein', 'Sales');\n",
        "insert into Employee values('00005', 'Timothy', 'Heeran', 'Marketing');\n",
        "\n",
        "\n",
        "insert into Headquarters values ('EC01', 'East Coast',  'Ron Kalisnky');\n",
        "insert into Headquarters values ('WC01', 'West Coast', 'Eliot Gunderson');\n",
        "insert into Headquarters values ('WC02', 'West Coast', 'Matteas Mitchell');\n",
        "insert into Headquarters values ('EC02', 'East Coast', 'Louis Osadchey');\n",
        "insert into Headquarters values ('EC03', 'East Coast', 'Paul Jordan');\n",
        "\n"
      ],
      "execution_count": 88,
      "outputs": [
        {
          "output_type": "stream",
          "text": [
            " * sqlite:///RJCdatabase.db\n",
            "1 rows affected.\n",
            "1 rows affected.\n",
            "1 rows affected.\n",
            "1 rows affected.\n",
            "1 rows affected.\n",
            "1 rows affected.\n",
            "1 rows affected.\n",
            "1 rows affected.\n",
            "1 rows affected.\n",
            "1 rows affected.\n",
            "1 rows affected.\n",
            "1 rows affected.\n",
            "1 rows affected.\n",
            "1 rows affected.\n",
            "1 rows affected.\n",
            "1 rows affected.\n",
            "1 rows affected.\n",
            "1 rows affected.\n",
            "1 rows affected.\n",
            "1 rows affected.\n",
            "1 rows affected.\n",
            "1 rows affected.\n",
            "1 rows affected.\n",
            "1 rows affected.\n",
            "1 rows affected.\n",
            "1 rows affected.\n",
            "1 rows affected.\n",
            "1 rows affected.\n",
            "1 rows affected.\n",
            "1 rows affected.\n"
          ],
          "name": "stdout"
        },
        {
          "output_type": "execute_result",
          "data": {
            "text/plain": [
              "[]"
            ]
          },
          "metadata": {
            "tags": []
          },
          "execution_count": 88
        }
      ]
    },
    {
      "cell_type": "markdown",
      "metadata": {
        "id": "wzyzgpi6-fpW"
      },
      "source": [
        "![erDiagram](https://raw.githubusercontent.com/roygbivdilaz/Course-Materials/master/Images/GroupAssignment2.png)"
      ]
    },
    {
      "cell_type": "code",
      "metadata": {
        "colab": {
          "base_uri": "https://localhost:8080/",
          "height": 95
        },
        "id": "Yv999f66ODj_",
        "outputId": "f21b6348-dcda-46ea-a5f6-8152d53d171c"
      },
      "source": [
        "%%sql\n",
        "select count(location) from Headquarters where location = 'East Coast' limit 5"
      ],
      "execution_count": 100,
      "outputs": [
        {
          "output_type": "stream",
          "text": [
            " * sqlite:///RJCdatabase.db\n",
            "Done.\n"
          ],
          "name": "stdout"
        },
        {
          "output_type": "execute_result",
          "data": {
            "text/html": [
              "<table>\n",
              "    <tr>\n",
              "        <th>count(location)</th>\n",
              "    </tr>\n",
              "    <tr>\n",
              "        <td>3</td>\n",
              "    </tr>\n",
              "</table>"
            ],
            "text/plain": [
              "[(3,)]"
            ]
          },
          "metadata": {
            "tags": []
          },
          "execution_count": 100
        }
      ]
    },
    {
      "cell_type": "markdown",
      "metadata": {
        "id": "kB6ZG1fESenY"
      },
      "source": [
        " One question that companies may need to keep track of as they grow is where their employees are distributed. Our theoretical company has two Headquarters, one on the East and West Coast. If an employee wanted to look and compare which headquarters has more employees, this is how it would be done."
      ]
    },
    {
      "cell_type": "markdown",
      "metadata": {
        "id": "deqAxUUtShiN"
      },
      "source": [
        ""
      ]
    },
    {
      "cell_type": "code",
      "metadata": {
        "colab": {
          "base_uri": "https://localhost:8080/",
          "height": 179
        },
        "id": "gJXrohRHQC9f",
        "outputId": "ed46bf65-2380-483d-baa6-c8138898a7ea"
      },
      "source": [
        "%%sql\n",
        "select * from Inventory Order by quantityStock DESC"
      ],
      "execution_count": 103,
      "outputs": [
        {
          "output_type": "stream",
          "text": [
            " * sqlite:///RJCdatabase.db\n",
            "Done.\n"
          ],
          "name": "stdout"
        },
        {
          "output_type": "execute_result",
          "data": {
            "text/html": [
              "<table>\n",
              "    <tr>\n",
              "        <th>inventoryID</th>\n",
              "        <th>size</th>\n",
              "        <th>quantityStock</th>\n",
              "        <th>typeOfClothing</th>\n",
              "    </tr>\n",
              "    <tr>\n",
              "        <td>0004</td>\n",
              "        <td>Large</td>\n",
              "        <td>77</td>\n",
              "        <td>Shorts</td>\n",
              "    </tr>\n",
              "    <tr>\n",
              "        <td>0003</td>\n",
              "        <td>Large</td>\n",
              "        <td>71</td>\n",
              "        <td>Jackets</td>\n",
              "    </tr>\n",
              "    <tr>\n",
              "        <td>0005</td>\n",
              "        <td>Medium</td>\n",
              "        <td>62</td>\n",
              "        <td>Hoodies</td>\n",
              "    </tr>\n",
              "    <tr>\n",
              "        <td>0001</td>\n",
              "        <td>Medium</td>\n",
              "        <td>55</td>\n",
              "        <td>Longsleeve</td>\n",
              "    </tr>\n",
              "    <tr>\n",
              "        <td>0002</td>\n",
              "        <td>Small</td>\n",
              "        <td>43</td>\n",
              "        <td>Short sleeve</td>\n",
              "    </tr>\n",
              "</table>"
            ],
            "text/plain": [
              "[('0004', 'Large', 77, 'Shorts'),\n",
              " ('0003', 'Large', 71, 'Jackets'),\n",
              " ('0005', 'Medium', 62, 'Hoodies'),\n",
              " ('0001', 'Medium', 55, 'Longsleeve'),\n",
              " ('0002', 'Small', 43, 'Short sleeve')]"
            ]
          },
          "metadata": {
            "tags": []
          },
          "execution_count": 103
        }
      ]
    },
    {
      "cell_type": "markdown",
      "metadata": {
        "id": "-LxmM001Sipy"
      },
      "source": [
        "This query helps to return our inventory from most in stock to the least amount in stock. This can be helpful for our employees in regards to product ordering. Our employees can see the inventory and order more or less of a product depending on how many we have in stock. So in this example we will order less shorts and more short sleeve shirts."
      ]
    },
    {
      "cell_type": "markdown",
      "metadata": {
        "id": "bfHSon-aR4Pz"
      },
      "source": [
        ""
      ]
    },
    {
      "cell_type": "code",
      "metadata": {
        "colab": {
          "base_uri": "https://localhost:8080/",
          "height": 116
        },
        "id": "_Z7nT9ktQoht",
        "outputId": "40594674-8194-449d-8269-cd9e18c98792"
      },
      "source": [
        "%%sql\n",
        "select adtype,count(adType) from Advertisements group by adtype"
      ],
      "execution_count": 109,
      "outputs": [
        {
          "output_type": "stream",
          "text": [
            " * sqlite:///RJCdatabase.db\n",
            "Done.\n"
          ],
          "name": "stdout"
        },
        {
          "output_type": "execute_result",
          "data": {
            "text/html": [
              "<table>\n",
              "    <tr>\n",
              "        <th>adType</th>\n",
              "        <th>count(adType)</th>\n",
              "    </tr>\n",
              "    <tr>\n",
              "        <td>Physical</td>\n",
              "        <td>2</td>\n",
              "    </tr>\n",
              "    <tr>\n",
              "        <td>Social Media</td>\n",
              "        <td>3</td>\n",
              "    </tr>\n",
              "</table>"
            ],
            "text/plain": [
              "[('Physical', 2), ('Social Media', 3)]"
            ]
          },
          "metadata": {
            "tags": []
          },
          "execution_count": 109
        }
      ]
    },
    {
      "cell_type": "markdown",
      "metadata": {
        "id": "PFH1GVcyR75L"
      },
      "source": [
        "When keeping track of the advertisements created by RJC, knowing how many physical advertisements (billboards, fliers, etc) and social media advertisements would be good information to have. This information would allow us to know what adtype we should create next so that we can maintain an equal amount of physical and social media advertisements."
      ]
    }
  ]
}